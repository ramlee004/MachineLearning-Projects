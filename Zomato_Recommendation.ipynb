{
 "cells": [
  {
   "cell_type": "code",
   "execution_count": null,
   "metadata": {},
   "outputs": [],
   "source": [
    "import pandas as pd\n",
    "import bs4\n",
    "import selenium\n",
    "import requests\n",
    "import re\n",
    "from selenium import webdriver"
   ]
  },
  {
   "cell_type": "code",
   "execution_count": 8,
   "metadata": {},
   "outputs": [],
   "source": [
    "browser = webdriver.Chrome('chromedriver.exe')\n",
    "\n",
    "browser.get('https://www.zomato.com/bangalore/great-food-no-bull')"
   ]
  },
  {
   "cell_type": "code",
   "execution_count": 9,
   "metadata": {},
   "outputs": [
    {
     "name": "stdout",
     "output_type": "stream",
     "text": [
      "142\n"
     ]
    }
   ],
   "source": [
    "res =browser.find_elements_by_css_selector('div.col-s-8.col-l-1by3')\n",
    "print(len(res))"
   ]
  },
  {
   "cell_type": "code",
   "execution_count": 13,
   "metadata": {},
   "outputs": [
    {
     "data": {
      "text/html": [
       "<div>\n",
       "<style scoped>\n",
       "    .dataframe tbody tr th:only-of-type {\n",
       "        vertical-align: middle;\n",
       "    }\n",
       "\n",
       "    .dataframe tbody tr th {\n",
       "        vertical-align: top;\n",
       "    }\n",
       "\n",
       "    .dataframe thead th {\n",
       "        text-align: right;\n",
       "    }\n",
       "</style>\n",
       "<table border=\"1\" class=\"dataframe\">\n",
       "  <thead>\n",
       "    <tr style=\"text-align: right;\">\n",
       "      <th></th>\n",
       "      <th>restaurant_link</th>\n",
       "      <th>restaurant_name</th>\n",
       "    </tr>\n",
       "  </thead>\n",
       "  <tbody>\n",
       "    <tr>\n",
       "      <th>0</th>\n",
       "      <td>https://www.zomato.com/bangalore/roots-koraman...</td>\n",
       "      <td>Roots</td>\n",
       "    </tr>\n",
       "    <tr>\n",
       "      <th>1</th>\n",
       "      <td>https://www.zomato.com/bangalore/vapour-brewpu...</td>\n",
       "      <td>Vapour Brewpub and Diner</td>\n",
       "    </tr>\n",
       "    <tr>\n",
       "      <th>2</th>\n",
       "      <td>https://www.zomato.com/bangalore/caperberry-la...</td>\n",
       "      <td>Caperberry</td>\n",
       "    </tr>\n",
       "    <tr>\n",
       "      <th>3</th>\n",
       "      <td>https://www.zomato.com/bangalore/echoes-korama...</td>\n",
       "      <td>ECHOES Koramangala</td>\n",
       "    </tr>\n",
       "    <tr>\n",
       "      <th>4</th>\n",
       "      <td>https://www.zomato.com/bangalore/the-reservoir...</td>\n",
       "      <td>The Reservoire</td>\n",
       "    </tr>\n",
       "  </tbody>\n",
       "</table>\n",
       "</div>"
      ],
      "text/plain": [
       "                                     restaurant_link           restaurant_name\n",
       "0  https://www.zomato.com/bangalore/roots-koraman...                     Roots\n",
       "1  https://www.zomato.com/bangalore/vapour-brewpu...  Vapour Brewpub and Diner\n",
       "2  https://www.zomato.com/bangalore/caperberry-la...                Caperberry\n",
       "3  https://www.zomato.com/bangalore/echoes-korama...        ECHOES Koramangala\n",
       "4  https://www.zomato.com/bangalore/the-reservoir...            The Reservoire"
      ]
     },
     "execution_count": 13,
     "metadata": {},
     "output_type": "execute_result"
    }
   ],
   "source": [
    "from selenium.common.exceptions import NoSuchElementException\n",
    "def get_info(review, selector , attribute):\n",
    "    try:    \n",
    "        tag = review.find_element_by_css_selector(selector)\n",
    "    \n",
    "        tag = tag.get_attribute(attribute)\n",
    "    except:\n",
    "        tag=None\n",
    "    return tag\n",
    "\n",
    "df_rest=pd.DataFrame(columns={'restaurant_name','restaurant_link'})\n",
    "\n",
    "for rest in res:  \n",
    "    restaurant_name = get_info(rest,'div.res_title.zblack.bold.nowrap','innerHTML')\n",
    "    if restaurant_name != None:\n",
    "        restaurant_name = restaurant_name.strip()\n",
    "    restaurant_link = get_info(rest,'a.relative.top-res-box-bg.pl10.ptop0','href')\n",
    "    curr_restaurant={\n",
    "                 'restaurant_name':restaurant_name,\n",
    "                 'restaurant_link':restaurant_link\n",
    "             }\n",
    "    df_rest= df_rest.append(curr_restaurant,ignore_index=True)\n",
    "    \n",
    "df_rest.head()"
   ]
  },
  {
   "cell_type": "code",
   "execution_count": 16,
   "metadata": {
    "scrolled": true
   },
   "outputs": [
    {
     "data": {
      "text/html": [
       "<div>\n",
       "<style scoped>\n",
       "    .dataframe tbody tr th:only-of-type {\n",
       "        vertical-align: middle;\n",
       "    }\n",
       "\n",
       "    .dataframe tbody tr th {\n",
       "        vertical-align: top;\n",
       "    }\n",
       "\n",
       "    .dataframe thead th {\n",
       "        text-align: right;\n",
       "    }\n",
       "</style>\n",
       "<table border=\"1\" class=\"dataframe\">\n",
       "  <thead>\n",
       "    <tr style=\"text-align: right;\">\n",
       "      <th></th>\n",
       "      <th>user_id</th>\n",
       "      <th>rest_name</th>\n",
       "      <th>user_name</th>\n",
       "      <th>rating</th>\n",
       "    </tr>\n",
       "  </thead>\n",
       "  <tbody>\n",
       "    <tr>\n",
       "      <th>0</th>\n",
       "      <td>15880153</td>\n",
       "      <td>Roots Bangalore</td>\n",
       "      <td>Madhurima Deka</td>\n",
       "      <td>Rated 3.0</td>\n",
       "    </tr>\n",
       "    <tr>\n",
       "      <th>1</th>\n",
       "      <td>812105</td>\n",
       "      <td>Roots Bangalore</td>\n",
       "      <td>Joyjit</td>\n",
       "      <td>Rated 4.0</td>\n",
       "    </tr>\n",
       "    <tr>\n",
       "      <th>2</th>\n",
       "      <td>1384839</td>\n",
       "      <td>Roots Bangalore</td>\n",
       "      <td>Vivek Sinha</td>\n",
       "      <td>Rated 5.0</td>\n",
       "    </tr>\n",
       "    <tr>\n",
       "      <th>3</th>\n",
       "      <td>1187917</td>\n",
       "      <td>Roots Bangalore</td>\n",
       "      <td>Barna Paul</td>\n",
       "      <td>Rated 5.0</td>\n",
       "    </tr>\n",
       "    <tr>\n",
       "      <th>4</th>\n",
       "      <td>35233361</td>\n",
       "      <td>Roots Bangalore</td>\n",
       "      <td>Akshata Sensharma</td>\n",
       "      <td>Rated 5.0</td>\n",
       "    </tr>\n",
       "  </tbody>\n",
       "</table>\n",
       "</div>"
      ],
      "text/plain": [
       "    user_id        rest_name          user_name     rating\n",
       "0  15880153  Roots Bangalore     Madhurima Deka  Rated 3.0\n",
       "1    812105  Roots Bangalore             Joyjit  Rated 4.0\n",
       "2   1384839  Roots Bangalore        Vivek Sinha  Rated 5.0\n",
       "3   1187917  Roots Bangalore         Barna Paul  Rated 5.0\n",
       "4  35233361  Roots Bangalore  Akshata Sensharma  Rated 5.0"
      ]
     },
     "execution_count": 16,
     "metadata": {},
     "output_type": "execute_result"
    }
   ],
   "source": [
    "df_reviews=pd.DataFrame(columns={'rating','user_name','user_id','rest_name'})\n",
    "for link in df_rest['restaurant_link']:\n",
    "    browser.get(link )\n",
    "    while True:\n",
    "        more_sel = 'div.load-more'\n",
    "        try:\n",
    "            load_more_button = browser.find_element_by_css_selector(more_sel)\n",
    "            load_more_button.click()\n",
    "\n",
    "            reviews = browser.find_elements_by_css_selector('div.ui.segment.clearfix.brtop')\n",
    "        except Exception:\n",
    "            break\n",
    "    def get_info(review, selector , attribute):\n",
    "        try:    \n",
    "            tag = review.find_element_by_css_selector(selector)\n",
    "\n",
    "            tag = tag.get_attribute(attribute)\n",
    "        except:\n",
    "            tag=None\n",
    "        return tag\n",
    "        \n",
    "    for review in reviews:  \n",
    "            rating=get_info(review,'div.ttupper','aria-label')\n",
    "            #y=re.findall('[0-9.]+',rating)\n",
    "            #rating = float(y[0])\n",
    "            name_selec = 'a[data-entity_id]'\n",
    "            user_id =get_info(review,name_selec,'data-entity_id')  \n",
    "            user_name = get_info(review,name_selec,'innerHTML') \n",
    "            if user_name !=None:\n",
    "                user_name = user_name.strip()\n",
    "            rest_name = get_info(browser,'a.ui.large.header','title') \n",
    "            curr_review={\n",
    "                         'user_name':user_name,\n",
    "                         'rating':rating,\n",
    "                         'user_id':user_id,\n",
    "                         'rest_name':rest_name\n",
    "                     }\n",
    "            df_reviews= df_reviews.append(curr_review,ignore_index=True)\n",
    "df_reviews.head()  "
   ]
  },
  {
   "cell_type": "code",
   "execution_count": 17,
   "metadata": {},
   "outputs": [
    {
     "data": {
      "text/plain": [
       "11213"
      ]
     },
     "execution_count": 17,
     "metadata": {},
     "output_type": "execute_result"
    }
   ],
   "source": [
    "df_reviews.shape[0]"
   ]
  },
  {
   "cell_type": "code",
   "execution_count": 18,
   "metadata": {},
   "outputs": [],
   "source": [
    "df_reviews.to_csv('zomato_scrap.csv',index=False)"
   ]
  },
  {
   "cell_type": "code",
   "execution_count": 19,
   "metadata": {},
   "outputs": [],
   "source": [
    "import pandas as pd"
   ]
  },
  {
   "cell_type": "code",
   "execution_count": 21,
   "metadata": {},
   "outputs": [],
   "source": [
    "zomato = pd.read_csv('C:/Users/Hitman/zomato_scrap.csv')"
   ]
  },
  {
   "cell_type": "code",
   "execution_count": 22,
   "metadata": {},
   "outputs": [
    {
     "data": {
      "text/html": [
       "<div>\n",
       "<style scoped>\n",
       "    .dataframe tbody tr th:only-of-type {\n",
       "        vertical-align: middle;\n",
       "    }\n",
       "\n",
       "    .dataframe tbody tr th {\n",
       "        vertical-align: top;\n",
       "    }\n",
       "\n",
       "    .dataframe thead th {\n",
       "        text-align: right;\n",
       "    }\n",
       "</style>\n",
       "<table border=\"1\" class=\"dataframe\">\n",
       "  <thead>\n",
       "    <tr style=\"text-align: right;\">\n",
       "      <th></th>\n",
       "      <th>user_id</th>\n",
       "      <th>rest_name</th>\n",
       "      <th>user_name</th>\n",
       "      <th>rating</th>\n",
       "    </tr>\n",
       "  </thead>\n",
       "  <tbody>\n",
       "    <tr>\n",
       "      <th>0</th>\n",
       "      <td>15880153.0</td>\n",
       "      <td>Roots Bangalore</td>\n",
       "      <td>Madhurima Deka</td>\n",
       "      <td>Rated 3.0</td>\n",
       "    </tr>\n",
       "    <tr>\n",
       "      <th>1</th>\n",
       "      <td>812105.0</td>\n",
       "      <td>Roots Bangalore</td>\n",
       "      <td>Joyjit</td>\n",
       "      <td>Rated 4.0</td>\n",
       "    </tr>\n",
       "    <tr>\n",
       "      <th>2</th>\n",
       "      <td>1384839.0</td>\n",
       "      <td>Roots Bangalore</td>\n",
       "      <td>Vivek Sinha</td>\n",
       "      <td>Rated 5.0</td>\n",
       "    </tr>\n",
       "    <tr>\n",
       "      <th>3</th>\n",
       "      <td>1187917.0</td>\n",
       "      <td>Roots Bangalore</td>\n",
       "      <td>Barna Paul</td>\n",
       "      <td>Rated 5.0</td>\n",
       "    </tr>\n",
       "    <tr>\n",
       "      <th>4</th>\n",
       "      <td>35233361.0</td>\n",
       "      <td>Roots Bangalore</td>\n",
       "      <td>Akshata Sensharma</td>\n",
       "      <td>Rated 5.0</td>\n",
       "    </tr>\n",
       "  </tbody>\n",
       "</table>\n",
       "</div>"
      ],
      "text/plain": [
       "      user_id        rest_name          user_name     rating\n",
       "0  15880153.0  Roots Bangalore     Madhurima Deka  Rated 3.0\n",
       "1    812105.0  Roots Bangalore             Joyjit  Rated 4.0\n",
       "2   1384839.0  Roots Bangalore        Vivek Sinha  Rated 5.0\n",
       "3   1187917.0  Roots Bangalore         Barna Paul  Rated 5.0\n",
       "4  35233361.0  Roots Bangalore  Akshata Sensharma  Rated 5.0"
      ]
     },
     "execution_count": 22,
     "metadata": {},
     "output_type": "execute_result"
    }
   ],
   "source": [
    "zomato.head()"
   ]
  },
  {
   "cell_type": "code",
   "execution_count": 23,
   "metadata": {},
   "outputs": [],
   "source": [
    "zomato=zomato.dropna(axis=0)"
   ]
  },
  {
   "cell_type": "code",
   "execution_count": 24,
   "metadata": {},
   "outputs": [
    {
     "data": {
      "text/plain": [
       "user_id      0\n",
       "rest_name    0\n",
       "user_name    0\n",
       "rating       0\n",
       "dtype: int64"
      ]
     },
     "execution_count": 24,
     "metadata": {},
     "output_type": "execute_result"
    }
   ],
   "source": [
    "zomato.isnull().sum()"
   ]
  },
  {
   "cell_type": "code",
   "execution_count": 25,
   "metadata": {},
   "outputs": [],
   "source": [
    "import re\n",
    "list=[]\n",
    "for i in zomato.rating.items():\n",
    "    value = re.findall('[0-9.]+',i[1])\n",
    "    list.append(value[0])"
   ]
  },
  {
   "cell_type": "code",
   "execution_count": 27,
   "metadata": {},
   "outputs": [
    {
     "data": {
      "text/html": [
       "<div>\n",
       "<style scoped>\n",
       "    .dataframe tbody tr th:only-of-type {\n",
       "        vertical-align: middle;\n",
       "    }\n",
       "\n",
       "    .dataframe tbody tr th {\n",
       "        vertical-align: top;\n",
       "    }\n",
       "\n",
       "    .dataframe thead th {\n",
       "        text-align: right;\n",
       "    }\n",
       "</style>\n",
       "<table border=\"1\" class=\"dataframe\">\n",
       "  <thead>\n",
       "    <tr style=\"text-align: right;\">\n",
       "      <th></th>\n",
       "      <th>user_id</th>\n",
       "      <th>rest_name</th>\n",
       "      <th>user_name</th>\n",
       "      <th>rating</th>\n",
       "    </tr>\n",
       "  </thead>\n",
       "  <tbody>\n",
       "    <tr>\n",
       "      <th>0</th>\n",
       "      <td>User-15880153</td>\n",
       "      <td>Roots Bangalore</td>\n",
       "      <td>Madhurima Deka</td>\n",
       "      <td>3.0</td>\n",
       "    </tr>\n",
       "    <tr>\n",
       "      <th>1</th>\n",
       "      <td>User-812105</td>\n",
       "      <td>Roots Bangalore</td>\n",
       "      <td>Joyjit</td>\n",
       "      <td>4.0</td>\n",
       "    </tr>\n",
       "    <tr>\n",
       "      <th>2</th>\n",
       "      <td>User-1384839</td>\n",
       "      <td>Roots Bangalore</td>\n",
       "      <td>Vivek Sinha</td>\n",
       "      <td>5.0</td>\n",
       "    </tr>\n",
       "    <tr>\n",
       "      <th>3</th>\n",
       "      <td>User-1187917</td>\n",
       "      <td>Roots Bangalore</td>\n",
       "      <td>Barna Paul</td>\n",
       "      <td>5.0</td>\n",
       "    </tr>\n",
       "    <tr>\n",
       "      <th>4</th>\n",
       "      <td>User-35233361</td>\n",
       "      <td>Roots Bangalore</td>\n",
       "      <td>Akshata Sensharma</td>\n",
       "      <td>5.0</td>\n",
       "    </tr>\n",
       "  </tbody>\n",
       "</table>\n",
       "</div>"
      ],
      "text/plain": [
       "         user_id        rest_name          user_name  rating\n",
       "0  User-15880153  Roots Bangalore     Madhurima Deka     3.0\n",
       "1    User-812105  Roots Bangalore             Joyjit     4.0\n",
       "2   User-1384839  Roots Bangalore        Vivek Sinha     5.0\n",
       "3   User-1187917  Roots Bangalore         Barna Paul     5.0\n",
       "4  User-35233361  Roots Bangalore  Akshata Sensharma     5.0"
      ]
     },
     "execution_count": 27,
     "metadata": {},
     "output_type": "execute_result"
    }
   ],
   "source": [
    "zomato.rating=list\n",
    "zomato.rating = zomato.rating.astype(float)\n",
    "zomato.user_id = zomato.user_id.astype(int)\n",
    "zomato.user_id = 'User-' + zomato.user_id.astype(str)\n",
    "zomato.head()"
   ]
  },
  {
   "cell_type": "code",
   "execution_count": 39,
   "metadata": {
    "scrolled": true
   },
   "outputs": [],
   "source": [
    "user_recommend = zomato.pivot_table(index='user_id',\n",
    "                                      columns='rest_name',\n",
    "                                      values='rating')"
   ]
  },
  {
   "cell_type": "code",
   "execution_count": 40,
   "metadata": {},
   "outputs": [],
   "source": [
    "from sklearn.metrics.pairwise import cosine_similarity\n",
    "zom_user = user_recommend.apply(lambda v:v-v.mean(),axis=1).fillna(0)"
   ]
  },
  {
   "cell_type": "code",
   "execution_count": 41,
   "metadata": {},
   "outputs": [],
   "source": [
    "sim_matrix = pd.DataFrame(cosine_similarity(zom_user),index=zom_user.index,columns=zom_user.index)"
   ]
  },
  {
   "cell_type": "code",
   "execution_count": 43,
   "metadata": {},
   "outputs": [
    {
     "data": {
      "text/plain": [
       "Index(['User-15880153', 'User-681081', 'User-33958274', 'User-1972562',\n",
       "       'User-38200606', 'User-2685180', 'User-50917700'],\n",
       "      dtype='object', name='user_id')"
      ]
     },
     "execution_count": 43,
     "metadata": {},
     "output_type": "execute_result"
    }
   ],
   "source": [
    "neighs = sim_matrix['User-15880153'].drop('User-1187917').sort_values(ascending=False).head(7).index\n",
    "neighs"
   ]
  },
  {
   "cell_type": "code",
   "execution_count": 48,
   "metadata": {},
   "outputs": [
    {
     "data": {
      "text/html": [
       "<div>\n",
       "<style scoped>\n",
       "    .dataframe tbody tr th:only-of-type {\n",
       "        vertical-align: middle;\n",
       "    }\n",
       "\n",
       "    .dataframe tbody tr th {\n",
       "        vertical-align: top;\n",
       "    }\n",
       "\n",
       "    .dataframe thead th {\n",
       "        text-align: right;\n",
       "    }\n",
       "</style>\n",
       "<table border=\"1\" class=\"dataframe\">\n",
       "  <thead>\n",
       "    <tr style=\"text-align: right;\">\n",
       "      <th></th>\n",
       "      <th>restaurant</th>\n",
       "      <th>predicted_rating</th>\n",
       "    </tr>\n",
       "  </thead>\n",
       "  <tbody>\n",
       "    <tr>\n",
       "      <th>77</th>\n",
       "      <td>Smoor Bangalore</td>\n",
       "      <td>4.714286</td>\n",
       "    </tr>\n",
       "    <tr>\n",
       "      <th>29</th>\n",
       "      <td>Dhaba - Estd 1986 Delhi Bangalore</td>\n",
       "      <td>4.000000</td>\n",
       "    </tr>\n",
       "    <tr>\n",
       "      <th>86</th>\n",
       "      <td>The Asian Curry House Bangalore</td>\n",
       "      <td>4.000000</td>\n",
       "    </tr>\n",
       "  </tbody>\n",
       "</table>\n",
       "</div>"
      ],
      "text/plain": [
       "                           restaurant  predicted_rating\n",
       "77                    Smoor Bangalore          4.714286\n",
       "29  Dhaba - Estd 1986 Delhi Bangalore          4.000000\n",
       "86    The Asian Curry House Bangalore          4.000000"
      ]
     },
     "execution_count": 48,
     "metadata": {},
     "output_type": "execute_result"
    }
   ],
   "source": [
    "preds = pd.DataFrame(columns=['restaurant','predicted_rating'])\n",
    "for rest_name,rating in user_item_matrix.loc['User-1187917'].items():\n",
    "    if pd.isnull(rating):\n",
    "        rest_ratings =user_item_matrix.loc[neighs,rest_name]\n",
    "        avg_rest_rating =rest_ratings.mean()\n",
    "        preds =preds.append({'restaurant':rest_name,'predicted_rating':avg_rest_rating},ignore_index=True)\n",
    "preds.sort_values('predicted_rating',ascending=False).head(3)"
   ]
  },
  {
   "cell_type": "code",
   "execution_count": 49,
   "metadata": {},
   "outputs": [],
   "source": [
    "def ubcf(userid):\n",
    "    neighs_userid=sim_matrix[userid].drop(userid).sort_values(ascending=False).head(7).index\n",
    "    preds =pd.DataFrame(columns=['rest_name','predicted_rating'])\n",
    "    for rest_name,rating in user_item_matrix.loc[userid].items():\n",
    "        if pd.isnull(rating):\n",
    "            rest_ratings =user_item_matrix.loc[neighs_userid,rest_name]\n",
    "            avg_rest_rating =rest_ratings.mean()\n",
    "            preds =preds.append({'rest_name':rest_name,'predicted_rating':avg_rest_rating},ignore_index=True)\n",
    "\n",
    "    movies_recom =preds.sort_values('predicted_rating',ascending=False).head(3)['rest_name']\n",
    "    return movies_recom"
   ]
  },
  {
   "cell_type": "code",
   "execution_count": 50,
   "metadata": {},
   "outputs": [
    {
     "data": {
      "text/plain": [
       "9         Biergarten Bangalore\n",
       "41    Hard Rock Cafe Bangalore\n",
       "54            Maziga Bangalore\n",
       "Name: rest_name, dtype: object"
      ]
     },
     "execution_count": 50,
     "metadata": {},
     "output_type": "execute_result"
    }
   ],
   "source": [
    "ubcf('User-1384839')"
   ]
  }
 ],
 "metadata": {
  "kernelspec": {
   "display_name": "Python 3",
   "language": "python",
   "name": "python3"
  },
  "language_info": {
   "codemirror_mode": {
    "name": "ipython",
    "version": 3
   },
   "file_extension": ".py",
   "mimetype": "text/x-python",
   "name": "python",
   "nbconvert_exporter": "python",
   "pygments_lexer": "ipython3",
   "version": "3.6.5"
  }
 },
 "nbformat": 4,
 "nbformat_minor": 2
}
